{
 "cells": [
  {
   "cell_type": "markdown",
   "metadata": {},
   "source": [
    "## Based on the following paper: <br> Application of Uniform Manifold Approximation and Projection (UMAP)\n",
    "\n",
    "\n",
    "Marc Vermeulen$^{1}$, Kate Smith$^{2}$, Katherine Eremin$^{2}$, Georgina Rayner$^{2}$, and Marc Walton$^{1}$\n",
    "\n",
    "$^{1}$ Northwestern University / Art Institute of Chicago Center for Scientific Studies in the Arts (NU-ACCESS), 2145 Sheridan Road, Evanston, IL, United States\n",
    "\n",
    "$^{2}$ Harvard Art Museums, Straus Center for Conservation and Technical Studies, 32 Quincy St, Cambridge, MA, United States\n",
    "\n",
    "Published in *Spectrochimica Acta A* (2021) <br>*DOI: 10.1016/j.saa.2021.119547* "
   ]
  },
  {
   "cell_type": "code",
   "execution_count": null,
   "metadata": {},
   "outputs": [],
   "source": [
    "import numpy as np\n",
    "import random\n",
    "import matplotlib.pyplot as plt\n",
    "import umap \n",
    "from PIL import Image, ImageOps\n",
    "import seaborn as sns\n",
    "from scipy.optimize import nnls \n",
    "from skimage.feature import peak_local_max\n",
    "import ipywidgets as widgets\n",
    "from ipywidgets import interactive\n",
    "from datetime import datetime"
   ]
  },
  {
   "cell_type": "markdown",
   "metadata": {},
   "source": [
    "# Data formating\n",
    "\n",
    "### Import spectral image stack, RGB image and associated wavelength\n",
    "1) Select the spectral data (formatted as \".tif\") and the associated RGB image (formated as \".tif\")<br>\n",
    "2) Passes user input from first cell <br>\n",
    "3) Define the image size of the spectral stack <br>\n",
    "4) Define the image size of the associated RGB image <br>\n",
    "5) Import the wavelength calibration file (ascii) corresponding to the channels of the spectral stack\n",
    "\n",
    "The RGB image is calculated from the spectral stack (data cube) using Fiji python scripts provided (refer to the section \"1.3. RGB conversion scripts\" of the README file) <br>\n",
    "\n",
    ">User input: Select the spectral data and associated RGB image in cell 1. Run all other cells"
   ]
  },
  {
   "cell_type": "code",
   "execution_count": null,
   "metadata": {},
   "outputs": [],
   "source": [
    "import os\n",
    "from ipyfilechooser import FileChooser\n",
    "global datafile, RGB, HSIdir, filename, basename, newpath\n",
    "\n",
    "datafile= FileChooser()\n",
    "datafile.default_path = \"Your default path here, using double backslash\"\n",
    "datafile.title='Choose spectral data file to be processed'\n",
    "datafile.show_hidden = False\n",
    "datafile.show_only_dirs=False\n",
    "datafile.use_dir_icons = True\n",
    "datafile.filter_pattern = '*.tif'\n",
    "display(datafile)\n",
    "\n",
    "RGB= FileChooser()\n",
    "RGB.default_path = \"Your default path here, using double backslash\"\n",
    "RGB.title='Choose associated RGB image'\n",
    "RGB.show_hidden = False\n",
    "RGB.use_dir_icons = True\n",
    "RGB.filter_pattern = '*.tif'\n",
    "display(RGB)"
   ]
  },
  {
   "cell_type": "code",
   "execution_count": null,
   "metadata": {},
   "outputs": [],
   "source": [
    "#Passes user inputs from cell above\n",
    "HSIdir=datafile.selected\n",
    "filename=os.path.basename(datafile.selected)\n",
    "RGB_dir=RGB.selected\n",
    "RGB_filename=os.path.basename(RGB.selected_filename)"
   ]
  },
  {
   "cell_type": "code",
   "execution_count": null,
   "metadata": {},
   "outputs": [],
   "source": [
    "img = Image.open(HSIdir)\n",
    "img.size"
   ]
  },
  {
   "cell_type": "code",
   "execution_count": null,
   "metadata": {},
   "outputs": [],
   "source": [
    "img_RGB = Image.open(RGB_dir)\n",
    "img_RGB.size\n",
    "\n",
    "if img.size == img_RGB.size:\n",
    "    print(\"The RGB image and spectral stack are the same size. Proceed to the next steps\")\n",
    "else:\n",
    "    print(\"Something went wrong; The RGB image and spectral stack are not the same size\")"
   ]
  },
  {
   "cell_type": "code",
   "execution_count": null,
   "metadata": {},
   "outputs": [],
   "source": [
    "#calibrated wavelength (usually available from the camera metadata file)\n",
    "wavelength = (393.35, 395.4374, 397.5248, 399.6122, 401.6996, 403.787, 405.8744, 407.9618, 410.0492, 412.1366, 414.224, 416.3114, 418.3988, 420.4862, 422.5736, 424.661, 426.7484, 428.8358, 430.9232, 433.0106, 435.098, 437.1854, 439.2728, 441.3602, 443.4476, 445.535, 447.6224, 449.7098, 451.7972, 453.8846, 455.972, 458.0594, 460.1468, 462.2342, 464.3216, 466.409, 468.4964, 470.5838, 472.6712, 474.7586, 476.846, 478.9334, 481.0208, 483.1082, 485.1956, 487.283, 489.3704, 491.4578, 493.5452, 495.6326, 497.72, 499.8074, 501.8948, 503.9822, 506.0696, 508.157, 510.2444, 512.3318, 514.4192, 516.5066, 518.594, 520.6814, 522.7688, 524.8562, 526.9436, 529.031, 531.1184, 533.2058, 535.2932, 537.3806, 539.468, 541.5554, 543.6428, 545.7302, 547.8176, 549.905, 551.9924, 554.0798, 556.1672, 558.2546, 560.342, 562.4294, 564.5168, 566.6042, 568.6916, 570.779, 572.8664, 574.9538, 577.0412, 579.1286, 581.216, 583.3034, 585.3908, 587.4782, 589.5656, 591.653, 593.7404, 595.8278, 597.9152, 600.0026, 602.09, 604.1774, 606.2648, 608.3522, 610.4396, 612.527, 614.6144, 616.7018, 618.7892, 620.8766, 622.964, 625.0514, 627.1388, 629.2262, 631.3136, 633.401, 635.4884, 637.5758, 639.6632, 641.7506, 643.838, 645.9254, 648.0128, 650.1002, 652.1876, 654.275, 656.3624, 658.4498, 660.5372, 662.6246, 664.712, 666.7994, 668.8868, 670.9742, 673.0616, 675.149, 677.2364, 679.3238, 681.4112, 683.4986, 685.586, 687.6734, 689.7608, 691.8482, 693.9356, 696.023, 698.1104, 700.1978, 702.2852, 704.3726, 706.46, 708.5474, 710.6348, 712.7222, 714.8096, 716.897, 718.9844, 721.0718, 723.1592, 725.2466, 727.334, 729.4214, 731.5088, 733.5962, 735.6836, 737.771, 739.8584, 741.9458, 744.0332, 746.1206, 748.208, 750.2954, 752.3828, 754.4702, 756.5576, 758.645, 760.7324, 762.8198, 764.9072, 766.9946, 769.082, 771.1694, 773.2568, 775.3442, 777.4316, 779.519, 781.6064, 783.6938, 785.7812, 787.8686, 789.956, 792.0434, 794.1308, 796.2182, 798.3056, 800.393, 802.4804, 804.5678, 806.6552, 808.7426, 810.83, 812.9174, 815.0048, 817.0922, 819.1796, 821.267, 823.3544, 825.4418, 827.5292, 829.6166, 831.704, 833.7914, 835.8788, 837.9662, 840.0536, 842.141, 844.2284, 846.3158, 848.4032, 850.4906, 852.578, 854.6654, 856.7528, 858.8402, 860.9276, 863.015, 865.1024, 867.1898, 869.2772, 871.3646, 873.452, 875.5394, 877.6268, 879.7142, 881.8016, 883.889, 885.9764, 888.0638, 890.1512, 892.2386)"
   ]
  },
  {
   "cell_type": "markdown",
   "metadata": {},
   "source": [
    "### Dataset preparation prior to data reduction\n",
    "\n",
    "1) remove any zero pixels artificially produced when stitching together two dissimilarly sized data cubes and unfold image into n x m matrix where n = number of wavelength channels and m =  number of pixels <br>\n",
    "Running this cell will provide the original shape of the array \n",
    "\n",
    ">User input: in \"#choose number of channels in spectral stack\", indicate number of channels associated with the spectral stack (should correspond to the wavelengths imported in the prior step, default: 240) <br>\n",
    "\n",
    "2) random selection of pixels to fit capabilities of the computer (can be modified until the shape of the array used to create the embedding (following cell) is deemed appropriate).\n",
    "\n",
    ">User input: select a percentage of pixels to use: 0.25 for 25%, 1 for 100% (default value: 0.25) <br>\n",
    "\n",
    "3) selection of the wavelength range to use prior to embedding (allows to remove unwanted - noisy for example - parts of the spectrum). <br>\n",
    "Runnign this cell (# input the desired spectral range) will provide the shape of the array used to create the embedding. \n",
    "\n",
    "> User input: input the spectral range to use (lower/upper)"
   ]
  },
  {
   "cell_type": "code",
   "execution_count": null,
   "metadata": {},
   "outputs": [],
   "source": [
    "width, height = img.size #X and Y image dimensions\n",
    "X_dim = width \n",
    "Y_dim = height \n",
    "\n",
    "# get the data into a numpy array\n",
    "images = []\n",
    "for i in range(img.n_frames):\n",
    "    img.seek(i)\n",
    "    images.append(np.array(img)) \n",
    "    \n",
    "# choose number of channels in spectral stack\n",
    "tot_unfolded =  np.reshape(images,(240,(np.shape(images)[1]*np.shape(images)[2])))\n",
    "\n",
    "# remove any of the totally zero lines, for when the images is stitched together\n",
    "f = [i for i, e in enumerate(np.sum(tot_unfolded, axis = 0)) if e != 0]\n",
    "zeros_removed = tot_unfolded.transpose()[f].transpose()\n",
    "\n",
    "# slice image from [start: end]\n",
    "unfolded = zeros_removed.transpose()[0:len(zeros_removed.transpose())].transpose()\n",
    "\n",
    "np.shape(tot_unfolded)# output dimensions of file prior to zero removed"
   ]
  },
  {
   "cell_type": "code",
   "execution_count": null,
   "metadata": {},
   "outputs": [],
   "source": [
    "np.shape(unfolded) # output dimensions of file after zero removed"
   ]
  },
  {
   "cell_type": "code",
   "execution_count": null,
   "metadata": {},
   "outputs": [],
   "source": [
    "# random selection of pixels (default value: 0.25 - 25% of the pixels)\n",
    "lists = list(range(np.shape(unfolded)[1]))\n",
    "k = random.sample(lists, int(len(lists)*1))\n",
    "unfoldedb = unfolded.T[k].T\n",
    "np.shape(unfoldedb)"
   ]
  },
  {
   "cell_type": "code",
   "execution_count": null,
   "metadata": {},
   "outputs": [],
   "source": [
    "# input the desired spectral range\n",
    "lower = 10\n",
    "upper = 240\n",
    "\n",
    "def lambda_select(lower,upper,data, wavelength):\n",
    "    d = data[lower:upper] #[channel begin: channel end]\n",
    "    w = wavelength[lower:upper]\n",
    "    return(d,w)\n",
    "\n",
    "#function returns wavelength range selected for data, d, and wavelength, w.\n",
    "d,w = lambda_select(lower,upper,unfoldedb,wavelength)\n",
    "\n",
    "np.shape(d)"
   ]
  },
  {
   "cell_type": "markdown",
   "metadata": {},
   "source": [
    "# Data reduction\n",
    "\n",
    "### UMAP embedding\n",
    "\n",
    "Embed high-dimensional data into a 2-dimensional space\n",
    "<br> (minimum distance and number of components are set by default at 0 and 2 respectively).<br>\n",
    "\n",
    ">User input <b>\n",
    ">>1) input the number of neighbors (default: 10) <br>\n",
    ">>2) input the desired distance metric (default: cosine) <br>\n",
    ">>3) select or deselect the \"random seed state\" (by deleting or including the pound (#) sign, unselected by default) <br>"
   ]
  },
  {
   "cell_type": "code",
   "execution_count": null,
   "metadata": {},
   "outputs": [],
   "source": [
    "start_time = datetime.now()\n",
    "\n",
    "embedding = umap.UMAP(\n",
    "    n_neighbors=10,\n",
    "    min_dist=0,\n",
    "    n_components=2,\n",
    "    metric='cosine', \n",
    "    #random_state=42\n",
    ").fit_transform(d.transpose()).transpose()\n",
    "end_time = datetime.now()\n",
    "print('Duration: {}'.format(end_time - start_time))"
   ]
  },
  {
   "cell_type": "markdown",
   "metadata": {},
   "source": [
    "# Data visualization\n",
    "\n",
    "### Create sparse UMAP visualization map\n",
    "Create UMAP X and Y embedding and sample mask. <br>\n",
    "In the sample mask, the white pixels correspond to the pixels selected through the random selection of pixels. \n",
    "\n",
    ">No user input required. Just run the cell."
   ]
  },
  {
   "cell_type": "code",
   "execution_count": null,
   "metadata": {},
   "outputs": [],
   "source": [
    "#arrays for UMAP embedding X and embedding Y filled with zeros\n",
    "TT =  np.zeros(len(unfolded.T))\n",
    "TT2 = np.zeros(len(unfolded.T))\n",
    "\n",
    "#placing UMAP embeddings into their indexed position in the array\n",
    "for i in range(0,len(unfoldedb.T)):\n",
    "    cas = k[i] \n",
    "    TT[cas] = embedding[0][i] \n",
    "    TT2[cas] = embedding[1][i]\n",
    "\n",
    "size = (img.size[0]*img.size[1])\n",
    "Mask = np.zeros(size)\n",
    "Mask[k] = 1\n",
    "Mask = [val*255 for val in Mask]\n",
    "\n",
    "Mask_new = np.zeros([img.size[1]*img.size[0]])\n",
    "bod_new = np.zeros([img.size[1]*img.size[0]])\n",
    "bod2_new = np.zeros([img.size[1]*img.size[0]])\n",
    "\n",
    "n = -1\n",
    "for i in range(img.size[1]*img.size[0]):\n",
    "    if np.sum(tot_unfolded[:, i], axis = 0) != 0 :\n",
    "        n = n + 1\n",
    "        Mask_new[i] = Mask[n]\n",
    "        bod_new[i] = TT[n]\n",
    "        bod2_new[i] = TT2[n]\n",
    "    \n",
    "Mask = np.reshape(Mask_new, (img.size[1],img.size[0])) #.astype('uint8')\n",
    "bod = np.reshape(bod_new, (img.size[1],img.size[0])) #.astype('float32')\n",
    "bod2 = np.reshape(bod2_new, (img.size[1],img.size[0])) #.astype('float32')\n",
    "\n",
    "#visualize results as sparsely sampled image. In \"mask\", bright points are sampled.\n",
    "%matplotlib inline \n",
    "f, ax = plt.subplots(1,3, figsize=(20,9))\n",
    "sns.despine(left=True, bottom=True, right=True)\n",
    "\n",
    "ax[0].set_title('UMAP X', size = 14)\n",
    "ax[0].imshow(bod,interpolation='nearest',cmap='gray', vmin = 0)\n",
    "ax[0].axes.get_xaxis().set_visible(False)\n",
    "ax[0].axes.get_yaxis().set_visible(False)\n",
    "\n",
    "ax[1].set_title('UMAP Y', size = 14)\n",
    "ax[1].imshow(bod2,interpolation='nearest',cmap='gray', vmin = 0)\n",
    "ax[1].axes.get_xaxis().set_visible(False)\n",
    "ax[1].axes.get_yaxis().set_visible(False)\n",
    "\n",
    "ax[2].set_title('Sampling Mask', size = 14)\n",
    "ax[2].imshow(Mask,interpolation='nearest',cmap='gray', vmin = 0)\n",
    "ax[2].axes.get_xaxis().set_visible(False)\n",
    "ax[2].axes.get_yaxis().set_visible(False)\n",
    "\n",
    "newdir=os.path.dirname(HSIdir)+\"/UMAP/\"\n",
    "newfile=os.path.splitext(filename)\n",
    "if not os.path.exists(newdir):\n",
    "    os.mkdir(newdir)\n",
    "    print(\"Directory \" , newdir ,  \" Created \")\n",
    "else:    \n",
    "    print(\"Directory \" , newdir ,  \" already exists\")\n",
    "print(newfile[0])  \n",
    "plt.savefig(newdir+newfile[0]+'_embedding.tif')\n",
    "\n",
    "plt.show()"
   ]
  },
  {
   "cell_type": "markdown",
   "metadata": {},
   "source": [
    "### Create UMAP colored scatterplot\n",
    "\n",
    ">No user input required. Just run the cell."
   ]
  },
  {
   "cell_type": "code",
   "execution_count": null,
   "metadata": {},
   "outputs": [],
   "source": [
    "im1 = Image.Image.split(img_RGB)\n",
    "RGB = []\n",
    "for i in range(0,3):\n",
    "    im1[i]\n",
    "    RGB.append(np.array(ImageOps.fit(im1[i], (X_dim,Y_dim))))\n",
    "\n",
    "normed_RGB = [val/255 for val in RGB]\n",
    "sa = np.reshape(normed_RGB,(3, X_dim*Y_dim)).transpose()[k]\n",
    "ss = sa[0:len(sa)].transpose()\n",
    "\n",
    "colors = []\n",
    "for i in range(0, len(ss[0])):\n",
    "    c = [ss[0][i],ss[1][i],ss[2][i]]\n",
    "    colors.append(c)\n",
    "    \n",
    "%matplotlib inline \n",
    "f, ax = plt.subplots(1,2,figsize=(20,9))\n",
    "sns.despine(left=True, bottom=True, right=True)\n",
    "\n",
    "\n",
    "ax[0].imshow(img_RGB)\n",
    "ax[0].set_title('RGB from spectral stack', size = 14)\n",
    "ax[0].axes.get_xaxis().set_visible(False)\n",
    "ax[0].axes.get_yaxis().set_visible(False)\n",
    "\n",
    "#Color Scatter\n",
    "ax[1].set_title('UMAP Color Scatter', size = 14)\n",
    "ax[1].axes.get_xaxis().set_visible(False) #set X axis \n",
    "ax[1].axes.get_yaxis().set_visible(False) #set Y axis\n",
    "ax[1].set_facecolor((150/255, 150/255, 150/255)) #set gray background if desired\n",
    "ax[1].scatter(embedding[0],embedding[1], c=colors, s=0.01) \n",
    "\n",
    "f.tight_layout()\n",
    " \n",
    "plt.savefig(newdir+newfile[0]+'_scatterplot.tif')\n",
    "\n",
    "plt.show()"
   ]
  },
  {
   "cell_type": "markdown",
   "metadata": {},
   "source": [
    "# Endmember extraction\n",
    "\n",
    "1) Identify number of endmembers through a 2D histogram algorithm <br>\n",
    "Running the cell will provide the number of endmembers found <br>\n",
    ">User input: choose threshold (threshold_rel) and minimum distance (min_distance) values (default: 0.2 and 15 respectively) <br>\n",
    "\n",
    "2) Plot density map\n",
    "> No user input required\n",
    "\n",
    "3) Plot regions selected from the 2D histogram\n",
    "> No user input required\n",
    "\n",
    "4) Extract spectral endmembers and plot <br>\n",
    "Running this cell will indicate the shape of the endmembers (number of channels, number of endmembers)\n",
    ">No user input required\n",
    "\n",
    "5) Save endmembers extracted in a csv format\n",
    ">User input: indicate file path and file name"
   ]
  },
  {
   "cell_type": "code",
   "execution_count": null,
   "metadata": {},
   "outputs": [],
   "source": [
    "# Identify number of endmembers using peak finding (\"mountain top\") in a 2D histogram \n",
    "global threshold_rel, min_distance\n",
    "Grid = 256\n",
    "xmin, xmax = np.amin(embedding[0]), np.amax(embedding[0])\n",
    "ymin, ymax = np.amin(embedding[1]), np.amax(embedding[1])\n",
    "counts, xedges, yedges = np.histogram2d(embedding[0], embedding[1], bins=Grid)\n",
    "\n",
    "#find local maxima in 2D histogram\n",
    "threshold_rel = 0.1\n",
    "min_distance = 20\n",
    "local_maxi = peak_local_max(counts, indices=True, threshold_rel = threshold_rel, min_distance = min_distance, exclude_border = False)\n",
    "\n",
    "local_max_x = []\n",
    "local_max_y = []\n",
    "\n",
    "for i in range(0,len(local_maxi)):\n",
    "    NewValue_X = (((local_maxi[i][0] ) * (xmax - xmin)) / (Grid - 0)) + xmin\n",
    "    NewValue_Y = (((local_maxi[i][1] - 0) * (ymax - ymin)) / (Grid - 0)) + ymin\n",
    "    local_max_x.append(NewValue_X)\n",
    "    local_max_y.append(NewValue_Y)\n",
    "    \n",
    "x = [x for x in zip(local_max_x,local_max_y)]\n",
    "print(len(x))\n",
    "nEM = len(x)"
   ]
  },
  {
   "cell_type": "code",
   "execution_count": null,
   "metadata": {
    "scrolled": false
   },
   "outputs": [],
   "source": [
    "# Plot regions selected from the 2D histogram\n",
    "\n",
    "min_max = 0.4 #determines bounding box size\n",
    "points = len(x)\n",
    "centroid = [] #empty array for selected UMAP centroids\n",
    "F = [] #indicies of UMAP points\n",
    "\n",
    "for i in range(0,points):\n",
    "    \n",
    "    #set bounding square \n",
    "    Minx = x[i][0] - min_max\n",
    "    Maxx = x[i][0] + min_max\n",
    "    Miny = x[i][1] - min_max\n",
    "    Maxy = x[i][1] + min_max\n",
    "    \n",
    "    #select points\n",
    "    z3 = [0 if j == 0 else j for j in [j if j <= Maxx else 0 for j in [j if j >= Minx else 0 for j in embedding[0]]]]\n",
    "    zz3 = [0 if j == 0 else j for j in [j if j <= Maxy else 0 for j in [j if j >= Miny else 0 for j in embedding[1]]]]\n",
    "    f = [i for i, e in enumerate([x*y for x,y in zip(z3,zz3)]) if e != 0]\n",
    "    d = embedding.transpose()[f]\n",
    "    F.append(f)\n",
    "    centroid.append(d)\n",
    "    \n",
    "%matplotlib inline \n",
    "fig, ax = plt.subplots(1,2,figsize=(20,10))\n",
    "sns.despine(left=True, bottom=True, right=True)\n",
    "\n",
    "#2D histogram density plot\n",
    "ax[0].set_title('Density map', size = 16)\n",
    "ax[0].imshow(np.rot90(counts), cmap='Greys', extent=[xmin, xmax, ymin, ymax])\n",
    "ax[0].set_facecolor((0, 0, 0)) #set gray background\n",
    "ax[0].axes.get_xaxis().set_visible(False)\n",
    "ax[0].axes.get_yaxis().set_visible(False)\n",
    "\n",
    "#Color Scatter with sampled pixels\n",
    "ax[1].set_title('Points Selected from kernel density estimation', size = 16)\n",
    "ax[1].set_facecolor((150/255, 150/255, 150/255)) #set gray background\n",
    "ax[1].scatter(embedding[0],embedding[1], c=colors ,s=0.01, alpha=1)\n",
    "ax[1].set_ylim([ymin, ymax])\n",
    "ax[1].set_xlim([xmin, xmax])\n",
    "ax[1].axes.get_xaxis().set_visible(False)\n",
    "ax[1].axes.get_yaxis().set_visible(False)\n",
    "\n",
    "#Plot pixels used to select endmembers\n",
    "for i in range(0,len(x)):\n",
    "    ax[1].scatter(centroid[i].transpose()[0], centroid[i].transpose()[1], color='white', s=0.1, alpha = 0.2)\n",
    "\n",
    "#Endmembers annotation\n",
    "label = [val+1 for val in list(range(len(x)))]\n",
    "centroids = np.array(x).transpose()\n",
    "    \n",
    "for i, txt in enumerate(label):\n",
    "    ax[1].annotate(txt, (centroids[0][i], centroids[1][i]), color='white', size=20)  \n",
    "fig.tight_layout()\n",
    "plt.savefig(newdir+newfile[0]+'_DensityMap_'+str(threshold_rel)+\"_\"+str(min_distance)+\"_\"+str(nEM)+'EM.tif')\n",
    "plt.show()\n",
    "\n",
    "end_members = []\n",
    "\n",
    "for i in range(0, len(x)):\n",
    "    jj = np.mean(unfolded.T[k][F[i]], axis = 0)\n",
    "    end_members.append(jj)\n",
    "end_members = np.array(end_members).transpose()  "
   ]
  },
  {
   "cell_type": "code",
   "execution_count": null,
   "metadata": {
    "scrolled": false
   },
   "outputs": [],
   "source": [
    "# Extract spectral endmembers and plot\n",
    "\n",
    "%matplotlib inline \n",
    "fig,ax = plt.subplots(1,figsize=(10,9))\n",
    "ax.set_title('Spectral Endmembers', size = 20)\n",
    "ax.plot(wavelength, end_members)\n",
    "ax.set_ylabel('% Reflectance', size=20)\n",
    "ax.set_xlabel('wavelength (nm)', size=20)\n",
    "ax.set_yticklabels([]) # Turn off tick labels\n",
    "ax.legend(label)\n",
    "\n",
    "plt.show()\n",
    "np.shape(end_members)"
   ]
  },
  {
   "cell_type": "code",
   "execution_count": null,
   "metadata": {},
   "outputs": [],
   "source": [
    "#Save endmembers extracted in a csv format\n",
    "\n",
    "np.savetxt(newdir+newfile[0]+'_EndmembersSpectra_'+str(threshold_rel)+\"_\"+str(min_distance)+\"_\"+str(nEM)+'EM.csv',end_members,delimiter=' ')"
   ]
  },
  {
   "cell_type": "markdown",
   "metadata": {},
   "source": [
    "# Endmember distribution\n",
    "\n",
    "1) Perform non negative least squares fit to whole original data stack <br>\n",
    "Running this cell will provide with the shape of the analyzed array (number of endmembers, number of pixels in the original data stack)\n",
    ">No user input required\n",
    "\n",
    "2) Visualize pigment distribution maps and associated reflectance curve <br>\n",
    "Running this cell will create an interactive plot. <br>\n",
    ">User input: Use the slider to visualize the endmember distribution maps.\n",
    "\n",
    "3) Save pigment distribution maps in a txt format\n",
    ">User input: indicate file path and file name"
   ]
  },
  {
   "cell_type": "code",
   "execution_count": null,
   "metadata": {},
   "outputs": [],
   "source": [
    "# Perform non negative least squares fit to entire original data stack\n",
    "\n",
    "Ends = np.array([nnls(end_members,i)[0] for i in tot_unfolded.transpose()]).transpose()\n",
    "np.shape(Ends)"
   ]
  },
  {
   "cell_type": "code",
   "execution_count": null,
   "metadata": {
    "scrolled": false
   },
   "outputs": [],
   "source": [
    "# Visualize pigment distribution maps and associated reflectance curves\n",
    "\n",
    "End_maps = np.reshape(Ends,(np.shape(Ends)[0],np.shape(images)[1],np.shape(images)[2]))\n",
    "%matplotlib inline \n",
    "def f(ends):\n",
    "    fig, axarr = plt.subplots(1,3,figsize=(20,10))\n",
    "    \n",
    "    axarr[0].imshow(img_RGB)\n",
    "    axarr[0].set_title('RGB from spectral stack')\n",
    "    axarr[0].axes.get_xaxis().set_visible(False)\n",
    "    axarr[0].axes.get_yaxis().set_visible(False)\n",
    "    \n",
    "    axarr[1].imshow(End_maps[ends-1], interpolation='nearest',cmap='gray', vmin = 0)\n",
    "    axarr[1].set_title('endmember ' + str(ends))\n",
    "    axarr[1].axes.get_xaxis().set_visible(False)\n",
    "    axarr[1].axes.get_yaxis().set_visible(False)\n",
    "    \n",
    "    axarr[2].plot(wavelength, end_members[:,ends-1])\n",
    "    axarr[2].set_ylabel('% Reflectance', size=20)\n",
    "    axarr[2].set_xlabel('wavelength (nm)', size=20)\n",
    "    axarr[2].set_yticklabels([]) # Turn off tick labels\n",
    "    axarr[2].set_ylim(np.amin(end_members), np.amax(end_members)) #set y limits if desired\n",
    "   \n",
    "    plt.show()\n",
    "\n",
    "interactive_plot = interactive(f, ends=(1, len(end_members.transpose()+1)))\n",
    "output = interactive_plot.children[-1]\n",
    "interactive_plot"
   ]
  },
  {
   "cell_type": "code",
   "execution_count": null,
   "metadata": {},
   "outputs": [],
   "source": [
    "#Save pigment distribution maps in a txt format\n",
    "\n",
    "np.savetxt(newdir+newfile[0]+'_EndmembersMaps_'+str(threshold_rel)+\"_\"+str(min_distance)+\"_\"+str(nEM)+'EM_'+str(X_dim)+\"x\"+str(Y_dim)+'.txt',Ends,delimiter=' ')"
   ]
  },
  {
   "cell_type": "markdown",
   "metadata": {},
   "source": [
    "# Endmembers sub-selection\n",
    "To use to reduce the number of endmembers by combining similar ones <br>\n",
    "\n",
    "1) Chose the endmembers of interest you want to map. <br>\n",
    "Running this cell will provide the new shape of the analyzed array (chosen number of endmembers, number of pixels in the original data stack)\n",
    "> User input: input the endmembers number to use in the square braquets [ ]\n",
    "\n",
    "2) Plot new spectral endmembers <br>\n",
    ">No user input required\n",
    "\n",
    "3) Save endmembers extracted in a csv format\n",
    ">User input: indicate file path and file name\n",
    "\n",
    "4) Perform non negative least squares fit to whole original data stack <br>\n",
    "Running this cell will provide with the shape of the analyzed array (number of endmembers, number of pixels in the original data stack)\n",
    ">No user input required\n",
    "\n",
    "5) Visualize pigment distribution maps and associated reflectance curve <br>\n",
    "Running this cell will create an interactive plot. <br>\n",
    ">User input: Use the slider to visualize the endmember distribution maps.\n",
    "\n",
    "6) Save pigment distribution maps in a txt format\n",
    ">User input: indicate file path and file name"
   ]
  },
  {
   "cell_type": "code",
   "execution_count": null,
   "metadata": {},
   "outputs": [],
   "source": [
    "#Choose the endmembers to map (select endmembers of interest)\n",
    "select = [1,3,4,6,8,11,12,13,16,17,19]\n",
    "\n",
    "for i in range (len(select)):\n",
    "    select [i] = select[i]-1\n",
    "\n",
    "end_members_b = end_members.T[select].T\n",
    "nEMb = end_members_b.shape[1]\n",
    "np.shape(end_members_b)"
   ]
  },
  {
   "cell_type": "code",
   "execution_count": null,
   "metadata": {},
   "outputs": [],
   "source": [
    "nEMb = end_members_b.shape[1]\n",
    "print(nEMb)"
   ]
  },
  {
   "cell_type": "code",
   "execution_count": null,
   "metadata": {},
   "outputs": [],
   "source": [
    "#Plot new spectral endmembers\n",
    "\n",
    "%matplotlib inline \n",
    "fig,ax = plt.subplots(1,figsize=(8,7))\n",
    "ax.set_title('Spectral Endmembers', size = 20)\n",
    "ax.plot(wavelength, end_members_b)\n",
    "ax.set_ylabel('% Reflectance', size=20)\n",
    "ax.set_xlabel('wavelength (nm)', size=20)\n",
    "ax.set_yticklabels([]) # Turn off tick labels\n",
    "ax.legend(label)\n",
    "\n",
    "plt.show()"
   ]
  },
  {
   "cell_type": "code",
   "execution_count": null,
   "metadata": {},
   "outputs": [],
   "source": [
    "#Save endmembers extracted in a csv format\n",
    "\n",
    "np.savetxt(newdir+newfile[0]+'_EndmembersSpectra_subselection_'+str(threshold_rel)+\"_\"+str(min_distance)+\"_\"+str(nEMb)+'EM.csv',end_members_b,delimiter=' ')"
   ]
  },
  {
   "cell_type": "code",
   "execution_count": null,
   "metadata": {},
   "outputs": [],
   "source": [
    "#perform NNLS on whole original data stack\n",
    "\n",
    "Ends_b = np.array([nnls(end_members_b,i)[0] for i in tot_unfolded.transpose()]).transpose()\n",
    "np.shape(Ends_b)"
   ]
  },
  {
   "cell_type": "code",
   "execution_count": null,
   "metadata": {},
   "outputs": [],
   "source": [
    "#Visualize new pigment distribution maps and associated reflectance curve\n",
    "\n",
    "End_maps_b = np.reshape(Ends_b,(np.shape(Ends_b)[0],np.shape(images)[1],np.shape(images)[2]))\n",
    "%matplotlib inline \n",
    "def f(ends_b):\n",
    "    fig, axarr = plt.subplots(1,3,figsize=(20,10))\n",
    "    \n",
    "    axarr[0].imshow(img_RGB)\n",
    "    axarr[0].set_title('RGB from spectral stack')\n",
    "    axarr[0].axes.get_xaxis().set_visible(False)\n",
    "    axarr[0].axes.get_yaxis().set_visible(False)\n",
    "    \n",
    "    axarr[1].imshow(End_maps_b[ends_b-1], interpolation='nearest',cmap='gray', vmin = 0)\n",
    "    axarr[1].set_title('endmember ' + str(ends_b))\n",
    "    axarr[1].axes.get_xaxis().set_visible(False)\n",
    "    axarr[1].axes.get_yaxis().set_visible(False)\n",
    "    \n",
    "    axarr[2].plot(wavelength, end_members_b[:,ends_b-1])\n",
    "    axarr[2].set_ylabel('% Reflectance', size=20)\n",
    "    axarr[2].set_xlabel('wavelength (nm)', size=20)\n",
    "    axarr[2].set_yticklabels([]) # Turn off tick labels\n",
    "    axarr[2].set_ylim(np.amin(end_members), np.amax(end_members)) #set y limits if desired\n",
    "   \n",
    "\n",
    "    plt.show()\n",
    "\n",
    "interactive_plot = interactive(f, ends_b=(1, len(end_members_b.transpose()+1)))\n",
    "output = interactive_plot.children[-1]\n",
    "interactive_plot"
   ]
  },
  {
   "cell_type": "code",
   "execution_count": null,
   "metadata": {},
   "outputs": [],
   "source": [
    "#Save new pigment distribution maps in a txt format\n",
    "\n",
    "np.savetxt(newdir+newfile[0]+'_EndmembersMaps_subselection_'+str(threshold_rel)+\"_\"+str(min_distance)+\"_\"+str(nEMb)+'EM_'+str(X_dim)+\"x\"+str(Y_dim)+'.txt',Ends_b,delimiter=' ')"
   ]
  },
  {
   "cell_type": "code",
   "execution_count": null,
   "metadata": {},
   "outputs": [],
   "source": []
  }
 ],
 "metadata": {
  "@webio": {
   "lastCommId": null,
   "lastKernelId": null
  },
  "celltoolbar": "Raw Cell Format",
  "kernelspec": {
   "display_name": "Python 3",
   "language": "python",
   "name": "python3"
  },
  "language_info": {
   "codemirror_mode": {
    "name": "ipython",
    "version": 3
   },
   "file_extension": ".py",
   "mimetype": "text/x-python",
   "name": "python",
   "nbconvert_exporter": "python",
   "pygments_lexer": "ipython3",
   "version": "3.8.5"
  }
 },
 "nbformat": 4,
 "nbformat_minor": 2
}
